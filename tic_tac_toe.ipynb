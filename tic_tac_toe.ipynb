{
  "nbformat": 4,
  "nbformat_minor": 0,
  "metadata": {
    "colab": {
      "provenance": [],
      "authorship_tag": "ABX9TyMVqM4aFP/hwLQOyXXanDTV",
      "include_colab_link": true
    },
    "kernelspec": {
      "name": "python3",
      "display_name": "Python 3"
    },
    "language_info": {
      "name": "python"
    }
  },
  "cells": [
    {
      "cell_type": "markdown",
      "metadata": {
        "id": "view-in-github",
        "colab_type": "text"
      },
      "source": [
        "<a href=\"https://colab.research.google.com/github/stillconscious/Python_Games/blob/main/tic_tac_toe.ipynb\" target=\"_parent\"><img src=\"https://colab.research.google.com/assets/colab-badge.svg\" alt=\"Open In Colab\"/></a>"
      ]
    },
    {
      "cell_type": "code",
      "execution_count": null,
      "metadata": {
        "id": "haf5GNREgdio"
      },
      "outputs": [],
      "source": [
        "t = [['-','-','-'],\n",
        "      ['-','-','-'],\n",
        "      ['-','-','-']]\n",
        "def triplet():\n",
        "  result = 0\n",
        "  for a in [0,1,2]:\n",
        "    if t[0][a] == t[1][a] == t[2][a] == 'X':\n",
        "      result = 1\n",
        "    elif t[0][a] == t[1][a] == t[2][a] == 'O':\n",
        "      result = 2\n",
        "    elif t[a][0] == t[a][1] == t[a][2] == 'X':\n",
        "      result = 1\n",
        "    elif t[a][0] == t[a][1] == t[a][2] == 'O':\n",
        "      result = 2\n",
        "    elif t[0][0] == t[1][1] == t[2][2] == 'X' or t[0][2] == t[1][1] == t[2][0] == 'X':\n",
        "      result = 1\n",
        "    elif t[0][0] == t[1][1] == t[2][2] == 'O' or t[0][2] == t[1][1] == t[2][0] == 'O':\n",
        "      result = 2\n",
        "  return result"
      ]
    },
    {
      "cell_type": "code",
      "source": [
        "def play():\n",
        "  chance = 0\n",
        "  result = 0\n",
        "  while result == 0 and chance < 9:\n",
        "    print(*t,sep='\\n')\n",
        "    while True:\n",
        "      a = int(input('enter your position (1 to 9): '))\n",
        "      if a > 9 or a < 1:\n",
        "        print('error, position can only be between 1 and 9')\n",
        "      else:\n",
        "        x = (a - 1) // 3\n",
        "        y = (a - 1) % 3\n",
        "        if t[x][y] == '-':\n",
        "          break\n",
        "        else:\n",
        "          print(\"error, space already marked\")\n",
        "    chance = chance + 1\n",
        "    if chance % 2 == 1:\n",
        "      t[x][y] = 'X'\n",
        "    elif chance % 2 == 0:\n",
        "      t[x][y] = 'O'\n",
        "    result = triplet()\n",
        "  print('player ' + str(result) + ' wins')\n",
        "  print(*t,sep='\\n')"
      ],
      "metadata": {
        "id": "8F8zIzonvn9q"
      },
      "execution_count": null,
      "outputs": []
    },
    {
      "cell_type": "code",
      "source": [
        "play()"
      ],
      "metadata": {
        "colab": {
          "base_uri": "https://localhost:8080/"
        },
        "id": "ZFNFnV7ex-2X",
        "outputId": "95678324-d213-4270-ec0d-38fef266c0fa"
      },
      "execution_count": null,
      "outputs": [
        {
          "output_type": "stream",
          "name": "stdout",
          "text": [
            "['-', '-', '-']\n",
            "['-', '-', '-']\n",
            "['-', '-', '-']\n",
            "enter your position (1 to 9): 1\n",
            "['X', '-', '-']\n",
            "['-', '-', '-']\n",
            "['-', '-', '-']\n",
            "enter your position (1 to 9): 4\n",
            "['X', '-', '-']\n",
            "['O', '-', '-']\n",
            "['-', '-', '-']\n",
            "enter your position (1 to 9): 2\n",
            "['X', 'X', '-']\n",
            "['O', '-', '-']\n",
            "['-', '-', '-']\n",
            "enter your position (1 to 9): 5\n",
            "['X', 'X', '-']\n",
            "['O', 'O', '-']\n",
            "['-', '-', '-']\n",
            "enter your position (1 to 9): 3\n",
            "player 1 wins\n",
            "['X', 'X', 'X']\n",
            "['O', 'O', '-']\n",
            "['-', '-', '-']\n"
          ]
        }
      ]
    }
  ]
}