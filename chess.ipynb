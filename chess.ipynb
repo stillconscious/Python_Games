{
  "nbformat": 4,
  "nbformat_minor": 0,
  "metadata": {
    "colab": {
      "provenance": [],
      "authorship_tag": "ABX9TyPLnJpR850g0tM9EudSFOqj",
      "include_colab_link": true
    },
    "kernelspec": {
      "name": "python3",
      "display_name": "Python 3"
    },
    "language_info": {
      "name": "python"
    }
  },
  "cells": [
    {
      "cell_type": "markdown",
      "metadata": {
        "id": "view-in-github",
        "colab_type": "text"
      },
      "source": [
        "<a href=\"https://colab.research.google.com/github/stillconscious/Python_Games/blob/main/chess.ipynb\" target=\"_parent\"><img src=\"https://colab.research.google.com/assets/colab-badge.svg\" alt=\"Open In Colab\"/></a>"
      ]
    },
    {
      "cell_type": "code",
      "source": [
        "import numpy as np"
      ],
      "metadata": {
        "id": "tf2GqucC8S15"
      },
      "execution_count": null,
      "outputs": []
    },
    {
      "cell_type": "code",
      "execution_count": null,
      "metadata": {
        "id": "MPFm9Zp7sW6M"
      },
      "outputs": [],
      "source": [
        "class piece:\n",
        "  def __init__(self, name, x_change, y_change, multi, x, y, colour):\n",
        "    self.name = name\n",
        "    self.x_change = x_change\n",
        "    self.y_change = y_change\n",
        "    self.multi = multi\n",
        "    self.x = x\n",
        "    self.y = y\n",
        "    self.colour = colour\n",
        "\n"
      ]
    },
    {
      "cell_type": "code",
      "source": [
        "white_rook_1 = piece(\"rook\", [1, 0, -1, 0], [0, 1, 0, -1], [1, 2, 3, 4, 5, 6, 7], 1, 1, \"w\")\n",
        "white_rook_2 = piece(\"rook\", [1, 0, -1, 0], [0, 1, 0, -1], [1, 2, 3, 4, 5, 6, 7], 8, 1, \"w\")\n",
        "white_bishop_dark = piece(\"bishop\", [1, -1, -1, 1], [1, 1, -1, -1], [1, 2, 3, 4, 5, 6, 7], 3, 1, \"w\")\n",
        "white_bishop_light = piece(\"bishop\", [1, -1, -1, 1], [1, 1, -1, -1], [1, 2, 3, 4, 5, 6, 7], 6, 1, \"w\")\n",
        "white_queen = piece(\"queen\", [1, 0, -1, 0, 1, -1, -1, 1], [0, 1, 0, -1, 1, 1, -1, -1], [1, 2, 3, 4, 5, 6, 7], 4, 1, \"w\")\n",
        "white_king = piece(\"king\", [1, 0, -1, 0, 1, -1, -1, 1], [0, 1, 0, -1, 1, 1, -1, -1], [1], 5, 1, \"w\")\n",
        "white_knight_1 = piece(\"knight\", [2, 1, -1, -2, -2, -1, 1, 2], [1, 2, 2, 1, -1, -2, -2, -1], [1], 2, 1, \"w\")\n",
        "white_knight_2 = piece(\"knight\", [2, 1, -1, -2, -2, -1, 1, 2], [1, 2, 2, 1, -1, -2, -2, -1], [1], 7, 1, \"w\")\n",
        "white_pawn_1 = piece(\"pawn\", [1, 0, -1], [1, 1, 1], [1], 1, 2, \"w\")\n",
        "white_pawn_2 = piece(\"pawn\", [1, 0, -1], [1, 1, 1], [1], 2, 2, \"w\")\n",
        "white_pawn_3 = piece(\"pawn\", [1, 0, -1], [1, 1, 1], [1], 3, 2, \"w\")\n",
        "white_pawn_4 = piece(\"pawn\", [1, 0, -1], [1, 1, 1], [1], 4, 2, \"w\")\n",
        "white_pawn_5 = piece(\"pawn\", [1, 0, -1], [1, 1, 1], [1], 5, 2, \"w\")\n",
        "white_pawn_6 = piece(\"pawn\", [1, 0, -1], [1, 1, 1], [1], 6, 2, \"w\")\n",
        "white_pawn_7 = piece(\"pawn\", [1, 0, -1], [1, 1, 1], [1], 7, 2, \"w\")\n",
        "white_pawn_8 = piece(\"pawn\", [1, 0, -1], [1, 1, 1], [1], 8, 2, \"w\")\n",
        "white_all_pieces = [white_rook_1, white_rook_2, white_bishop_dark, white_bishop_light, white_queen, white_king, white_knight_1,\n",
        "              white_knight_2, white_pawn_1 , white_pawn_2 , white_pawn_3 , white_pawn_4 , white_pawn_5 , white_pawn_6 ,\n",
        "               white_pawn_7 , white_pawn_8]"
      ],
      "metadata": {
        "id": "EwvcjVpga3VT"
      },
      "execution_count": null,
      "outputs": []
    },
    {
      "cell_type": "code",
      "source": [
        "black_rook_1 = piece(\"rook\", [1, 0, -1, 0], [0, 1, 0, -1], [1, 2, 3, 4, 5, 6, 7], 1, 8, \"b\")\n",
        "black_rook_2 = piece(\"rook\", [1, 0, -1, 0], [0, 1, 0, -1], [1, 2, 3, 4, 5, 6, 7], 8, 8, \"b\")\n",
        "black_bishop_dark = piece(\"bishop\", [1, -1, -1, 1], [1, 1, -1, -1], [1, 2, 3, 4, 5, 6, 7], 3, 8, \"b\")\n",
        "black_bishop_light = piece(\"bishop\", [1, -1, -1, 1], [1, 1, -1, -1], [1, 2, 3, 4, 5, 6, 7], 6, 8, \"b\")\n",
        "black_queen = piece(\"queen\", [1, 0, -1, 0, 1, -1, -1, 1], [0, 1, 0, -1, 1, 1, -1, -1], [1, 2, 3, 4, 5, 6, 7], 4, 8, \"b\")\n",
        "black_king = piece(\"king\", [1, 0, -1, 0, 1, -1, -1, 1], [0, 1, 0, -1, 1, 1, -1, -1], [1], 5, 8, \"b\")\n",
        "black_knight_1 = piece(\"knight\", [2, 1, -1, -2, -2, -1, 1, 2], [1, 2, 2, 1, -1, -2, -2, -1], [1], 2, 8, \"b\")\n",
        "black_knight_2 = piece(\"knight\", [2, 1, -1, -2, -2, -1, 1, 2], [1, 2, 2, 1, -1, -2, -2, -1], [1], 7, 8, \"b\")\n",
        "black_pawn_1 = piece(\"pawn\", [1, 0, -1], [1, 1, 1], [-1], 1, 7, \"b\")\n",
        "black_pawn_2 = piece(\"pawn\", [1, 0, -1], [1, 1, 1], [-1], 2, 7, \"b\")\n",
        "black_pawn_3 = piece(\"pawn\", [1, 0, -1], [1, 1, 1], [-1], 3, 7, \"b\")\n",
        "black_pawn_4 = piece(\"pawn\", [1, 0, -1], [1, 1, 1], [-1], 4, 7, \"b\")\n",
        "black_pawn_5 = piece(\"pawn\", [1, 0, -1], [1, 1, 1], [-1], 5, 7, \"b\")\n",
        "black_pawn_6 = piece(\"pawn\", [1, 0, -1], [1, 1, 1], [-1], 6, 7, \"b\")\n",
        "black_pawn_7 = piece(\"pawn\", [1, 0, -1], [1, 1, 1], [-1], 7, 7, \"b\")\n",
        "black_pawn_8 = piece(\"pawn\", [1, 0, -1], [1, 1, 1], [-1], 8, 7, \"b\")\n",
        "black_all_pieces = [black_rook_1, black_rook_2, black_bishop_dark, black_bishop_light, black_queen, black_king, black_knight_1,\n",
        "              black_knight_2, black_pawn_1 , black_pawn_2 , black_pawn_3 , black_pawn_4 , black_pawn_5 , black_pawn_6 ,\n",
        "               black_pawn_7 , black_pawn_8]"
      ],
      "metadata": {
        "id": "uEaT6Z61VKrG"
      },
      "execution_count": null,
      "outputs": []
    },
    {
      "cell_type": "code",
      "source": [
        "squares = [[0, 0, 0, 0, 0, 0, 0, 0],\n",
        "           [0, 0, 0, 0, 0, 0, 0, 0],\n",
        "           [0, 0, 0, 0, 0, 0, 0, 0],\n",
        "           [0, 0, 0, 0, 0, 0, 0, 0],\n",
        "           [0, 0, 0, 0, 0, 0, 0, 0],\n",
        "           [0, 0, 0, 0, 0, 0, 0, 0],\n",
        "           [0, 0, 0, 0, 0, 0, 0, 0],\n",
        "           [0, 0, 0, 0, 0, 0, 0, 0]]"
      ],
      "metadata": {
        "id": "P9AF1uFY50-x"
      },
      "execution_count": null,
      "outputs": []
    },
    {
      "cell_type": "code",
      "source": [
        "def arrange_pieces(m, p, n):\n",
        "  for i in m:\n",
        "    n[i.x-1][i.y-1] = i.name\n",
        "  for i in p:\n",
        "    n[i.x-1][i.y-1] = i.name\n",
        "  return n"
      ],
      "metadata": {
        "id": "hl6y6v-17oBx"
      },
      "execution_count": null,
      "outputs": []
    },
    {
      "cell_type": "code",
      "source": [
        "arrange_pieces(white_all_pieces, black_all_pieces, squares)"
      ],
      "metadata": {
        "colab": {
          "base_uri": "https://localhost:8080/"
        },
        "id": "MZrjxl-SLt-F",
        "outputId": "1604629d-1dc5-467b-cc52-c25204d05e44"
      },
      "execution_count": null,
      "outputs": [
        {
          "output_type": "execute_result",
          "data": {
            "text/plain": [
              "[['rook', 'pawn', 0, 0, 0, 0, 'pawn', 'rook'],\n",
              " ['knight', 'pawn', 0, 0, 0, 0, 'pawn', 'knight'],\n",
              " ['bishop', 'pawn', 0, 0, 0, 0, 'pawn', 'bishop'],\n",
              " ['queen', 'pawn', 0, 0, 0, 0, 'pawn', 'queen'],\n",
              " ['king', 'pawn', 0, 0, 0, 0, 'pawn', 'king'],\n",
              " ['bishop', 'pawn', 0, 0, 0, 0, 'pawn', 'bishop'],\n",
              " ['knight', 'pawn', 0, 0, 0, 0, 'pawn', 'knight'],\n",
              " ['rook', 'pawn', 0, 0, 0, 0, 'pawn', 'rook']]"
            ]
          },
          "metadata": {},
          "execution_count": 7
        }
      ]
    },
    {
      "cell_type": "code",
      "source": [
        "def move(object):\n",
        "  move_list = []\n",
        "  for i in range(len(object.x_change)):\n",
        "      possible_x_direction = object.x_change[i]\n",
        "      possible_y_direction = object.y_change[i]\n",
        "      for j in object.multi:\n",
        "        possible_x_move = possible_x_direction*j\n",
        "        possible_y_move = possible_y_direction*j\n",
        "        move_list.append([possible_x_move, possible_y_move])\n",
        "  return move_list\n",
        "\n",
        "def legal_move(m):\n",
        "  legal_move_list = []\n",
        "  if m.name == \"pawn\" and m.colour == \"w\":\n",
        "    if m.y == 2:\n",
        "      legal_move_list.append([m.x , 4])\n",
        "  if m.name == \"pawn\" and m.colour == \"b\":\n",
        "    if m.y == 7:\n",
        "      legal_move_list.append([m.x , 5])\n",
        "  for i in move(m):\n",
        "    if 8>= m.x + i[0] >=1 and 8>= m.y + i[1] >=1:\n",
        "      if squares[m.x + i[0]-1][m.y + i[1]-1]==0:\n",
        "        legal_move_list.append([m.x + i[0], m.y + i[1]])\n",
        "\n",
        "  return legal_move_list"
      ],
      "metadata": {
        "id": "6grMHjI8L0Tk"
      },
      "execution_count": null,
      "outputs": []
    },
    {
      "cell_type": "code",
      "source": [
        "def play(m, s):\n",
        "  if s in legal_move(m):\n",
        "    squares[m.x-1][m.y-1] = 0\n",
        "    m.x = s[0]\n",
        "    m.y = s[1]\n",
        "    squares[m.x-1][m.y-1] = m.name\n",
        "  else:\n",
        "    print(\"illegal move\")\n",
        "  return squares"
      ],
      "metadata": {
        "id": "EIcjvMHYRF9x"
      },
      "execution_count": null,
      "outputs": []
    },
    {
      "cell_type": "code",
      "source": [
        "play(white_pawn_4, [4, 4])"
      ],
      "metadata": {
        "colab": {
          "base_uri": "https://localhost:8080/"
        },
        "id": "P9oUCa7rSlyC",
        "outputId": "4d869e82-121b-4d17-e290-8db6240130f8"
      },
      "execution_count": null,
      "outputs": [
        {
          "output_type": "execute_result",
          "data": {
            "text/plain": [
              "[['rook', 'pawn', 0, 0, 0, 0, 'pawn', 'rook'],\n",
              " ['knight', 'pawn', 0, 0, 0, 0, 'pawn', 'knight'],\n",
              " ['bishop', 'pawn', 0, 0, 0, 0, 'pawn', 'bishop'],\n",
              " ['queen', 0, 0, 'pawn', 0, 0, 'pawn', 'queen'],\n",
              " ['king', 'pawn', 0, 0, 0, 0, 'pawn', 'king'],\n",
              " ['bishop', 'pawn', 0, 0, 0, 0, 'pawn', 'bishop'],\n",
              " ['knight', 'pawn', 0, 0, 0, 0, 'pawn', 'knight'],\n",
              " ['rook', 'pawn', 0, 0, 0, 0, 'pawn', 'rook']]"
            ]
          },
          "metadata": {},
          "execution_count": 10
        }
      ]
    },
    {
      "cell_type": "code",
      "source": [],
      "metadata": {
        "id": "itp9-5YSXlrP"
      },
      "execution_count": null,
      "outputs": []
    }
  ]
}